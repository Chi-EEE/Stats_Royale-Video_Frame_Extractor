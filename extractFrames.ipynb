{
 "cells": [
  {
   "cell_type": "code",
   "execution_count": null,
   "metadata": {},
   "outputs": [],
   "source": [
    "import cv2"
   ]
  },
  {
   "cell_type": "code",
   "execution_count": null,
   "metadata": {},
   "outputs": [],
   "source": [
    "vidcap = cv2.VideoCapture('./videos/aa.mp4')\n",
    "success,image = vidcap.read()\n",
    "count = 0\n",
    "while success:\n",
    "    if count % 16 == 0:\n",
    "        cv2.imwrite(\"./screenshots/frame%d.jpg\" % count, image)     # save frame as JPEG file      \n",
    "        success,image = vidcap.read()\n",
    "        # print('Read a new frame: ', success)\n",
    "    count += 1\n",
    "print(\"done\")"
   ]
  },
  {
   "cell_type": "code",
   "execution_count": null,
   "metadata": {},
   "outputs": [],
   "source": [
    "import subprocess\n",
    "subprocess.run(\"\"\"ffmpeg -i ./videos/aa.mp4 -vf \"select=not(mod(n\\,8))\" -vsync vfr 1_every_8/%03d.png\"\"\")\n",
    "# 118 - 962 - 1028\n"
   ]
  },
  {
   "cell_type": "markdown",
   "metadata": {},
   "source": [
    "Ignore first 21 frames [21] (Stats Royale Info)\n",
    "\n",
    "Ignore 22 - 69 frames [48] (App Promo)\n",
    "\n",
    "Ignore 70 - 117 frames [48] (Nothing happening)\n",
    "\n",
    "Ignore 962 - 966 frames [5] (Game finished)\n",
    "\n",
    "Ignore 967 - 1028 frames [62] (App Promo)"
   ]
  },
  {
   "cell_type": "code",
   "execution_count": null,
   "metadata": {},
   "outputs": [],
   "source": [
    "from os import listdir\n",
    "from os.path import isfile, join\n",
    "frames_path = \"./1_every_8/\"\n",
    "onlyfiles = [f for f in listdir(frames_path) if isfile(join(frames_path, f))]\n",
    "onlyfiles"
   ]
  },
  {
   "cell_type": "code",
   "execution_count": null,
   "metadata": {},
   "outputs": [],
   "source": [
    "from itertools import islice\n",
    "import os\n",
    "\n",
    "frames_path = \"./1_every_8/\"\n",
    "\n",
    "stats_royale_intro = True\n",
    "stats_royale_app = True\n",
    "skip_first_seconds = True\n",
    "skip_ending_seconds = True\n",
    "stats_royale_outro = True\n",
    "\n",
    "starting_frame_index = 0\n",
    "ending_frame_index = 0\n",
    "if stats_royale_intro:\n",
    "    starting_frame_index += 21\n",
    "if stats_royale_app:\n",
    "    starting_frame_index += 48\n",
    "if skip_first_seconds:\n",
    "    starting_frame_index += 48\n",
    "if skip_ending_seconds:\n",
    "    ending_frame_index += 20\n",
    "if stats_royale_outro:\n",
    "    ending_frame_index += 62\n",
    "\n",
    "for frame in onlyfiles:\n",
    "    if int(frame.removesuffix(\".png\")) not in range(starting_frame_index, len(onlyfiles) - ending_frame_index):\n",
    "        os.remove(frames_path + frame)"
   ]
  },
  {
   "cell_type": "code",
   "execution_count": null,
   "metadata": {},
   "outputs": [],
   "source": [
    "import pkg_resources, os, time\n",
    "\n",
    "for package in pkg_resources.working_set:\n",
    "    print(\"%s: %s\" % (package, time.ctime(os.path.getctime(package.location))))\n"
   ]
  },
  {
   "cell_type": "code",
   "execution_count": null,
   "metadata": {},
   "outputs": [],
   "source": []
  }
 ],
 "metadata": {
  "kernelspec": {
   "display_name": "Python 3.10.8 64-bit",
   "language": "python",
   "name": "python3"
  },
  "language_info": {
   "codemirror_mode": {
    "name": "ipython",
    "version": 3
   },
   "file_extension": ".py",
   "mimetype": "text/x-python",
   "name": "python",
   "nbconvert_exporter": "python",
   "pygments_lexer": "ipython3",
   "version": "3.10.8"
  },
  "orig_nbformat": 4,
  "vscode": {
   "interpreter": {
    "hash": "beedbe2faf2f7048d727558d0bc3221e7eba2a0b921cac4d4771b2feb8f74b30"
   }
  }
 },
 "nbformat": 4,
 "nbformat_minor": 2
}
